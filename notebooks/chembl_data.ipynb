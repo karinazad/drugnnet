{
 "cells": [
  {
   "cell_type": "code",
   "execution_count": 15,
   "id": "9c3872b7",
   "metadata": {},
   "outputs": [],
   "source": [
    "%load_ext autoreload\n",
    "%autoreload 2\n",
    "\n",
    "import os\n",
    "import sys\n",
    "import ast\n",
    "import random\n",
    "import pickle\n",
    "\n",
    "DIR = os.path.dirname(os.getcwd())\n",
    "sys.path.append(DIR)\n",
    "\n",
    "import math\n",
    "import numpy as np\n",
    "import pandas as pd\n",
    "\n",
    "from rdkit.Chem import PandasTools\n",
    "from chembl_webresource_client.new_client import new_client"
   ]
  },
  {
   "cell_type": "code",
   "execution_count": 38,
   "id": "5d657f59",
   "metadata": {},
   "outputs": [],
   "source": [
    "from src.utils.chembl_data_processing import get_bioactivity_compound_data"
   ]
  },
  {
   "cell_type": "code",
   "execution_count": 3,
   "id": "f57dab50",
   "metadata": {},
   "outputs": [
    {
     "data": {
      "text/plain": [
       "'/Users/karinazadorozhny/Desktop/Projects/MPN_Project/molecular-message-passing/data'"
      ]
     },
     "execution_count": 3,
     "metadata": {},
     "output_type": "execute_result"
    }
   ],
   "source": [
    "DIR = os.path.dirname(os.getcwd())\n",
    "DATA_PATH = os.path.join(DIR, \"data\")\n",
    "DATA_PATH"
   ]
  },
  {
   "cell_type": "markdown",
   "id": "aa66a974",
   "metadata": {},
   "source": [
    "Create a client to access ChemBL data"
   ]
  },
  {
   "cell_type": "code",
   "execution_count": 4,
   "id": "a1658602",
   "metadata": {},
   "outputs": [],
   "source": [
    "targets_api = new_client.target\n",
    "compounds_api = new_client.molecule\n",
    "bioactivities_api = new_client.activity"
   ]
  },
  {
   "cell_type": "markdown",
   "id": "de3097db",
   "metadata": {},
   "source": [
    "### Retrieve data for target protein: PARP1"
   ]
  },
  {
   "cell_type": "code",
   "execution_count": 5,
   "id": "f3e52117",
   "metadata": {},
   "outputs": [],
   "source": [
    "# Poly [ADP-ribose] polymerase 1 \n",
    "TARGET_NAME = \"PARP1\"\n",
    "uniprot_id = \"P09874\""
   ]
  },
  {
   "cell_type": "code",
   "execution_count": 6,
   "id": "b79604a2",
   "metadata": {},
   "outputs": [
    {
     "data": {
      "text/html": [
       "<div>\n",
       "<style scoped>\n",
       "    .dataframe tbody tr th:only-of-type {\n",
       "        vertical-align: middle;\n",
       "    }\n",
       "\n",
       "    .dataframe tbody tr th {\n",
       "        vertical-align: top;\n",
       "    }\n",
       "\n",
       "    .dataframe thead th {\n",
       "        text-align: right;\n",
       "    }\n",
       "</style>\n",
       "<table border=\"1\" class=\"dataframe\">\n",
       "  <thead>\n",
       "    <tr style=\"text-align: right;\">\n",
       "      <th></th>\n",
       "      <th>cross_references</th>\n",
       "      <th>organism</th>\n",
       "      <th>pref_name</th>\n",
       "      <th>species_group_flag</th>\n",
       "      <th>target_chembl_id</th>\n",
       "      <th>target_components</th>\n",
       "      <th>target_type</th>\n",
       "      <th>tax_id</th>\n",
       "    </tr>\n",
       "  </thead>\n",
       "  <tbody>\n",
       "    <tr>\n",
       "      <th>0</th>\n",
       "      <td>[{'xref_id': 'P09874', 'xref_name': None, 'xre...</td>\n",
       "      <td>Homo sapiens</td>\n",
       "      <td>Poly [ADP-ribose] polymerase-1</td>\n",
       "      <td>False</td>\n",
       "      <td>CHEMBL3105</td>\n",
       "      <td>[{'accession': 'P09874', 'component_descriptio...</td>\n",
       "      <td>SINGLE PROTEIN</td>\n",
       "      <td>9606</td>\n",
       "    </tr>\n",
       "    <tr>\n",
       "      <th>1</th>\n",
       "      <td>[{'xref_id': 'P09874', 'xref_name': None, 'xre...</td>\n",
       "      <td>Homo sapiens</td>\n",
       "      <td>Poly [ADP-ribose] polymerase-1</td>\n",
       "      <td>False</td>\n",
       "      <td>CHEMBL3105</td>\n",
       "      <td>[{'accession': 'P09874', 'component_descriptio...</td>\n",
       "      <td>SINGLE PROTEIN</td>\n",
       "      <td>9606</td>\n",
       "    </tr>\n",
       "    <tr>\n",
       "      <th>2</th>\n",
       "      <td>[]</td>\n",
       "      <td>Homo sapiens</td>\n",
       "      <td>PARP 1, 2 and 3</td>\n",
       "      <td>False</td>\n",
       "      <td>CHEMBL3390820</td>\n",
       "      <td>[{'accession': 'P09874', 'component_descriptio...</td>\n",
       "      <td>PROTEIN FAMILY</td>\n",
       "      <td>9606</td>\n",
       "    </tr>\n",
       "  </tbody>\n",
       "</table>\n",
       "</div>"
      ],
      "text/plain": [
       "                                    cross_references      organism  \\\n",
       "0  [{'xref_id': 'P09874', 'xref_name': None, 'xre...  Homo sapiens   \n",
       "1  [{'xref_id': 'P09874', 'xref_name': None, 'xre...  Homo sapiens   \n",
       "2                                                 []  Homo sapiens   \n",
       "\n",
       "                        pref_name  species_group_flag target_chembl_id  \\\n",
       "0  Poly [ADP-ribose] polymerase-1               False       CHEMBL3105   \n",
       "1  Poly [ADP-ribose] polymerase-1               False       CHEMBL3105   \n",
       "2                 PARP 1, 2 and 3               False    CHEMBL3390820   \n",
       "\n",
       "                                   target_components     target_type  tax_id  \n",
       "0  [{'accession': 'P09874', 'component_descriptio...  SINGLE PROTEIN    9606  \n",
       "1  [{'accession': 'P09874', 'component_descriptio...  SINGLE PROTEIN    9606  \n",
       "2  [{'accession': 'P09874', 'component_descriptio...  PROTEIN FAMILY    9606  "
      ]
     },
     "execution_count": 6,
     "metadata": {},
     "output_type": "execute_result"
    }
   ],
   "source": [
    "# Use clients to collect data about the target\n",
    "\n",
    "targets = targets_api.get(\n",
    "    target_components__accession=uniprot_id)\n",
    "\n",
    "# Targets_api returns a lazy Query Set. Retrieve the data into a pandas DataFrame\n",
    "targets = pd.DataFrame.from_records(targets)\n",
    "targets"
   ]
  },
  {
   "cell_type": "code",
   "execution_count": 7,
   "id": "f1a783be",
   "metadata": {
    "scrolled": true
   },
   "outputs": [
    {
     "data": {
      "text/plain": [
       "cross_references      [{'xref_id': 'P09874', 'xref_name': None, 'xre...\n",
       "organism                                                   Homo sapiens\n",
       "pref_name                                Poly [ADP-ribose] polymerase-1\n",
       "species_group_flag                                                False\n",
       "target_chembl_id                                             CHEMBL3105\n",
       "target_components     [{'accession': 'P09874', 'component_descriptio...\n",
       "target_type                                              SINGLE PROTEIN\n",
       "tax_id                                                             9606\n",
       "Name: 0, dtype: object"
      ]
     },
     "execution_count": 7,
     "metadata": {},
     "output_type": "execute_result"
    }
   ],
   "source": [
    "# Select a correct from retrieved targets\n",
    "target = targets.iloc[0]\n",
    "target"
   ]
  },
  {
   "cell_type": "markdown",
   "id": "d6c5e7fb",
   "metadata": {},
   "source": [
    "### Get Bioactivity Data"
   ]
  },
  {
   "cell_type": "markdown",
   "id": "a458a5b0",
   "metadata": {},
   "source": [
    "Fetch the bioactivity data and filter it to only consider\n",
    "\n",
    "* human proteins, \n",
    "* bioactivity type IC50, \n",
    "* exact measurements (relation `'='`), and\n",
    "* binding data (assay type `'B'`)."
   ]
  },
  {
   "cell_type": "code",
   "execution_count": 8,
   "id": "4baa62bb",
   "metadata": {},
   "outputs": [
    {
     "name": "stdout",
     "output_type": "stream",
     "text": [
      "Length and type of bioactivities object: 2300, <class 'chembl_webresource_client.query_set.QuerySet'>\n"
     ]
    }
   ],
   "source": [
    "bioactivities = bioactivities_api.filter(\n",
    "    target_chembl_id=target.target_chembl_id, relation=\"=\", assay_type=\"B\", type=\"IC50\"\n",
    ").only(\n",
    "    \"activity_id\",\n",
    "    \"assay_chembl_id\",\n",
    "    \"assay_description\",\n",
    "    \"assay_type\",\n",
    "    \"molecule_chembl_id\",\n",
    "    \"type\",\n",
    "    \"standard_units\",\n",
    "    \"relation\",\n",
    "    \"standard_value\",\n",
    "    \"target_chembl_id\",\n",
    "    \"target_organism\",\n",
    ")\n",
    "\n",
    "print(f\"Length and type of bioactivities object: {len(bioactivities)}, {type(bioactivities)}\")\n",
    "# NBVAL_CHECK_OUTPUT"
   ]
  },
  {
   "cell_type": "markdown",
   "id": "2e7b11e4",
   "metadata": {},
   "source": [
    "#### Preprocess and filter bioactivity data\n",
    "\n",
    "1. Convert `standard_value`'s datatype from `object` to `float`\n",
    "2. Delete entries with missing values\n",
    "3. Keep only entries with `standard_unit == nM`\n",
    "4. Delete duplicate molecules\n",
    "5. Reset `DataFrame` index"
   ]
  },
  {
   "cell_type": "code",
   "execution_count": 10,
   "id": "29aa6f95",
   "metadata": {},
   "outputs": [
    {
     "name": "stdout",
     "output_type": "stream",
     "text": [
      "Initial number of samples: 2301 \n",
      "\n",
      "\t Entries with NaNs: 0.\n",
      "\t New number of samples: 2301 \n",
      "\n",
      "\t Entries with non-standard units: 2\n",
      "\t New number of samples: 2299\n",
      "\n",
      "\t Entries duplicates: 247\n",
      "\t New number of samples: 2052\n",
      "\n",
      "Final number of samples: 2052 \n",
      "\n"
     ]
    }
   ],
   "source": [
    "bioactivities_df = preprocess_compound_activity_dataset(\n",
    "    df = bioactivities_df,\n",
    "    columns_to_float = [\"standard_value\"],\n",
    "    standard_unit = \"nM\"\n",
    ")"
   ]
  },
  {
   "cell_type": "markdown",
   "id": "6f46e82b",
   "metadata": {},
   "source": [
    "### Get Compound Data"
   ]
  },
  {
   "cell_type": "code",
   "execution_count": 11,
   "id": "5341b009",
   "metadata": {},
   "outputs": [],
   "source": [
    "compounds = compounds_api.filter(\n",
    "    molecule_chembl_id__in=list(bioactivities_df[\"molecule_chembl_id\"])\n",
    ").only(\"molecule_chembl_id\", \"molecule_structures\")"
   ]
  },
  {
   "cell_type": "code",
   "execution_count": 24,
   "id": "75157450",
   "metadata": {},
   "outputs": [
    {
     "name": "stdout",
     "output_type": "stream",
     "text": [
      "compounds shape: (2053, 2)\n"
     ]
    },
    {
     "data": {
      "text/html": [
       "<div>\n",
       "<style scoped>\n",
       "    .dataframe tbody tr th:only-of-type {\n",
       "        vertical-align: middle;\n",
       "    }\n",
       "\n",
       "    .dataframe tbody tr th {\n",
       "        vertical-align: top;\n",
       "    }\n",
       "\n",
       "    .dataframe thead th {\n",
       "        text-align: right;\n",
       "    }\n",
       "</style>\n",
       "<table border=\"1\" class=\"dataframe\">\n",
       "  <thead>\n",
       "    <tr style=\"text-align: right;\">\n",
       "      <th></th>\n",
       "      <th>molecule_chembl_id</th>\n",
       "      <th>molecule_structures</th>\n",
       "    </tr>\n",
       "  </thead>\n",
       "  <tbody>\n",
       "    <tr>\n",
       "      <th>0</th>\n",
       "      <td>CHEMBL267373</td>\n",
       "      <td>{'canonical_smiles': 'NC(=O)c1ccccc1', 'molfil...</td>\n",
       "    </tr>\n",
       "    <tr>\n",
       "      <th>1</th>\n",
       "      <td>CHEMBL267373</td>\n",
       "      <td>{'canonical_smiles': 'NC(=O)c1ccccc1', 'molfil...</td>\n",
       "    </tr>\n",
       "    <tr>\n",
       "      <th>2</th>\n",
       "      <td>CHEMBL266540</td>\n",
       "      <td>{'canonical_smiles': 'O=c1[nH]cnc2ccccc12', 'm...</td>\n",
       "    </tr>\n",
       "    <tr>\n",
       "      <th>3</th>\n",
       "      <td>CHEMBL28</td>\n",
       "      <td>{'canonical_smiles': 'O=c1cc(-c2ccc(O)cc2)oc2c...</td>\n",
       "    </tr>\n",
       "    <tr>\n",
       "      <th>4</th>\n",
       "      <td>CHEMBL16861</td>\n",
       "      <td>{'canonical_smiles': 'Cc1ccc(-c2cc(=O)c3ccccc3...</td>\n",
       "    </tr>\n",
       "  </tbody>\n",
       "</table>\n",
       "</div>"
      ],
      "text/plain": [
       "  molecule_chembl_id                                molecule_structures\n",
       "0       CHEMBL267373  {'canonical_smiles': 'NC(=O)c1ccccc1', 'molfil...\n",
       "1       CHEMBL267373  {'canonical_smiles': 'NC(=O)c1ccccc1', 'molfil...\n",
       "2       CHEMBL266540  {'canonical_smiles': 'O=c1[nH]cnc2ccccc12', 'm...\n",
       "3           CHEMBL28  {'canonical_smiles': 'O=c1cc(-c2ccc(O)cc2)oc2c...\n",
       "4        CHEMBL16861  {'canonical_smiles': 'Cc1ccc(-c2cc(=O)c3ccccc3..."
      ]
     },
     "execution_count": 24,
     "metadata": {},
     "output_type": "execute_result"
    }
   ],
   "source": [
    "compounds_df = retrieve_or_create_dataframe_from_query(\n",
    "    query = compounds,\n",
    "    query_name = \"compounds\",\n",
    "    data_path = DATA_PATH,\n",
    "    target_name = TARGET_NAME,\n",
    ")\n",
    "\n",
    "compounds_df.head()"
   ]
  },
  {
   "cell_type": "code",
   "execution_count": 25,
   "id": "9a8e4f21",
   "metadata": {
    "scrolled": true
   },
   "outputs": [
    {
     "name": "stdout",
     "output_type": "stream",
     "text": [
      "Initial number of samples: 2053 \n",
      "\n",
      "\t Entries with NaNs: 0.\n",
      "\t New number of samples: 2053 \n",
      "\n",
      "\t Entries duplicates: 1\n",
      "\t New number of samples: 2052\n",
      "\n",
      "Final number of samples: 2052 \n",
      "\n"
     ]
    }
   ],
   "source": [
    "compounds_df = preprocess_compound_activity_dataset(\n",
    "    df = compounds_df,\n",
    ")"
   ]
  },
  {
   "cell_type": "markdown",
   "id": "dfd3d71a",
   "metadata": {},
   "source": [
    "#### Get molecules with canonical SMILES"
   ]
  },
  {
   "cell_type": "code",
   "execution_count": 26,
   "id": "2a696309",
   "metadata": {
    "scrolled": true
   },
   "outputs": [
    {
     "data": {
      "text/html": [
       "<div>\n",
       "<style scoped>\n",
       "    .dataframe tbody tr th:only-of-type {\n",
       "        vertical-align: middle;\n",
       "    }\n",
       "\n",
       "    .dataframe tbody tr th {\n",
       "        vertical-align: top;\n",
       "    }\n",
       "\n",
       "    .dataframe thead th {\n",
       "        text-align: right;\n",
       "    }\n",
       "</style>\n",
       "<table border=\"1\" class=\"dataframe\">\n",
       "  <thead>\n",
       "    <tr style=\"text-align: right;\">\n",
       "      <th></th>\n",
       "      <th>molecule_chembl_id</th>\n",
       "      <th>molecule_structures</th>\n",
       "    </tr>\n",
       "  </thead>\n",
       "  <tbody>\n",
       "    <tr>\n",
       "      <th>0</th>\n",
       "      <td>CHEMBL267373</td>\n",
       "      <td>{'canonical_smiles': 'NC(=O)c1ccccc1', 'molfil...</td>\n",
       "    </tr>\n",
       "    <tr>\n",
       "      <th>1</th>\n",
       "      <td>CHEMBL266540</td>\n",
       "      <td>{'canonical_smiles': 'O=c1[nH]cnc2ccccc12', 'm...</td>\n",
       "    </tr>\n",
       "    <tr>\n",
       "      <th>2</th>\n",
       "      <td>CHEMBL28</td>\n",
       "      <td>{'canonical_smiles': 'O=c1cc(-c2ccc(O)cc2)oc2c...</td>\n",
       "    </tr>\n",
       "    <tr>\n",
       "      <th>3</th>\n",
       "      <td>CHEMBL16861</td>\n",
       "      <td>{'canonical_smiles': 'Cc1ccc(-c2cc(=O)c3ccccc3...</td>\n",
       "    </tr>\n",
       "    <tr>\n",
       "      <th>4</th>\n",
       "      <td>CHEMBL275638</td>\n",
       "      <td>{'canonical_smiles': 'O=c1cc(-c2ccccc2)oc2cccc...</td>\n",
       "    </tr>\n",
       "  </tbody>\n",
       "</table>\n",
       "</div>"
      ],
      "text/plain": [
       "  molecule_chembl_id                                molecule_structures\n",
       "0       CHEMBL267373  {'canonical_smiles': 'NC(=O)c1ccccc1', 'molfil...\n",
       "1       CHEMBL266540  {'canonical_smiles': 'O=c1[nH]cnc2ccccc12', 'm...\n",
       "2           CHEMBL28  {'canonical_smiles': 'O=c1cc(-c2ccc(O)cc2)oc2c...\n",
       "3        CHEMBL16861  {'canonical_smiles': 'Cc1ccc(-c2cc(=O)c3ccccc3...\n",
       "4       CHEMBL275638  {'canonical_smiles': 'O=c1cc(-c2ccccc2)oc2cccc..."
      ]
     },
     "execution_count": 26,
     "metadata": {},
     "output_type": "execute_result"
    }
   ],
   "source": [
    "compounds_df.head()"
   ]
  },
  {
   "cell_type": "markdown",
   "id": "0eaf32cd",
   "metadata": {},
   "source": [
    "### Merge bioactivities and compounds data"
   ]
  },
  {
   "cell_type": "code",
   "execution_count": 27,
   "id": "509a7242",
   "metadata": {
    "scrolled": true
   },
   "outputs": [
    {
     "data": {
      "text/html": [
       "<div>\n",
       "<style scoped>\n",
       "    .dataframe tbody tr th:only-of-type {\n",
       "        vertical-align: middle;\n",
       "    }\n",
       "\n",
       "    .dataframe tbody tr th {\n",
       "        vertical-align: top;\n",
       "    }\n",
       "\n",
       "    .dataframe thead th {\n",
       "        text-align: right;\n",
       "    }\n",
       "</style>\n",
       "<table border=\"1\" class=\"dataframe\">\n",
       "  <thead>\n",
       "    <tr style=\"text-align: right;\">\n",
       "      <th></th>\n",
       "      <th>molecule_chembl_id</th>\n",
       "      <th>canonical_smiles</th>\n",
       "    </tr>\n",
       "  </thead>\n",
       "  <tbody>\n",
       "    <tr>\n",
       "      <th>0</th>\n",
       "      <td>CHEMBL267373</td>\n",
       "      <td>NC(=O)c1ccccc1</td>\n",
       "    </tr>\n",
       "    <tr>\n",
       "      <th>1</th>\n",
       "      <td>CHEMBL266540</td>\n",
       "      <td>O=c1[nH]cnc2ccccc12</td>\n",
       "    </tr>\n",
       "    <tr>\n",
       "      <th>2</th>\n",
       "      <td>CHEMBL28</td>\n",
       "      <td>O=c1cc(-c2ccc(O)cc2)oc2cc(O)cc(O)c12</td>\n",
       "    </tr>\n",
       "    <tr>\n",
       "      <th>3</th>\n",
       "      <td>CHEMBL16861</td>\n",
       "      <td>Cc1ccc(-c2cc(=O)c3ccccc3o2)cc1</td>\n",
       "    </tr>\n",
       "    <tr>\n",
       "      <th>4</th>\n",
       "      <td>CHEMBL275638</td>\n",
       "      <td>O=c1cc(-c2ccccc2)oc2ccccc12</td>\n",
       "    </tr>\n",
       "  </tbody>\n",
       "</table>\n",
       "</div>"
      ],
      "text/plain": [
       "  molecule_chembl_id                      canonical_smiles\n",
       "0       CHEMBL267373                        NC(=O)c1ccccc1\n",
       "1       CHEMBL266540                   O=c1[nH]cnc2ccccc12\n",
       "2           CHEMBL28  O=c1cc(-c2ccc(O)cc2)oc2cc(O)cc(O)c12\n",
       "3        CHEMBL16861        Cc1ccc(-c2cc(=O)c3ccccc3o2)cc1\n",
       "4       CHEMBL275638           O=c1cc(-c2ccccc2)oc2ccccc12"
      ]
     },
     "execution_count": 27,
     "metadata": {},
     "output_type": "execute_result"
    }
   ],
   "source": [
    "compounds_df = extract_smiles_from_molecular_representation(compounds_df)\n",
    "compounds_df.head()"
   ]
  },
  {
   "cell_type": "markdown",
   "id": "0e25b0d9",
   "metadata": {},
   "source": [
    "Merge values of interest from bioactivities_df and compounds_df in an output_df based on the compounds' ChEMBL IDs (molecule_chembl_id), keeping the following columns:\n",
    "\n",
    "1. ChEMBL IDs: molecule_chembl_id\n",
    "2. SMILES: smiles\n",
    "3. units: units\n",
    "4. IC50: IC50"
   ]
  },
  {
   "cell_type": "code",
   "execution_count": 44,
   "id": "39b384ea",
   "metadata": {},
   "outputs": [
    {
     "name": "stdout",
     "output_type": "stream",
     "text": [
      "1. Get and process bioactivity dataset\n",
      "\n",
      "\tInitial number of samples: 2301 \n",
      "\n",
      "\t\t Entries with NaNs: 0.\n",
      "\t\t New number of samples: 2301 \n",
      "\n",
      "\t\t Entries with non-standard units: 2\n",
      "\t\t New number of samples: 2299\n",
      "\n",
      "\t\t Entries duplicates: 247\n",
      "\t\t New number of samples: 2052\n",
      "\n",
      "\tNumber of samples: 2052 \n",
      "\n",
      "2. Get and process compounds dataset\n",
      "\n",
      "\tInitial number of samples: 2053 \n",
      "\n",
      "\t\t Entries with NaNs: 0.\n",
      "\t\t New number of samples: 2053 \n",
      "\n",
      "\t\t Entries duplicates: 1\n",
      "\t\t New number of samples: 2052\n",
      "\n",
      "\tNumber of samples: 2052 \n",
      "\n",
      "3. Merge bioactivity and compound dataset\n",
      "\n",
      "\tFinal number of samples:  2052\n"
     ]
    }
   ],
   "source": [
    "merged = get_bioactivity_compound_data(\n",
    "    bioacitivity_query=bioactivities,\n",
    "    compound_query=compounds, \n",
    "    data_path=DATA_PATH,\n",
    "    target_name=TARGET_NAME)"
   ]
  },
  {
   "cell_type": "code",
   "execution_count": 45,
   "id": "0705769c",
   "metadata": {},
   "outputs": [
    {
     "data": {
      "text/html": [
       "<div>\n",
       "<style scoped>\n",
       "    .dataframe tbody tr th:only-of-type {\n",
       "        vertical-align: middle;\n",
       "    }\n",
       "\n",
       "    .dataframe tbody tr th {\n",
       "        vertical-align: top;\n",
       "    }\n",
       "\n",
       "    .dataframe thead th {\n",
       "        text-align: right;\n",
       "    }\n",
       "</style>\n",
       "<table border=\"1\" class=\"dataframe\">\n",
       "  <thead>\n",
       "    <tr style=\"text-align: right;\">\n",
       "      <th></th>\n",
       "      <th>molecule_chembl_id</th>\n",
       "      <th>standard_value</th>\n",
       "      <th>standard_units</th>\n",
       "      <th>canonical_smiles</th>\n",
       "    </tr>\n",
       "  </thead>\n",
       "  <tbody>\n",
       "    <tr>\n",
       "      <th>0</th>\n",
       "      <td>CHEMBL108702</td>\n",
       "      <td>20.00</td>\n",
       "      <td>nM</td>\n",
       "      <td>Nc1cccc(-c2ccc(C(=O)CNC(=O)CCn3c4c(c(=O)[nH]c3...</td>\n",
       "    </tr>\n",
       "    <tr>\n",
       "      <th>1</th>\n",
       "      <td>CHEMBL418816</td>\n",
       "      <td>3000.00</td>\n",
       "      <td>nM</td>\n",
       "      <td>O=C(CCn1c2c(c(=O)[nH]c1=O)CCC2)NCC(=O)N1CCN(c2...</td>\n",
       "    </tr>\n",
       "    <tr>\n",
       "      <th>2</th>\n",
       "      <td>CHEMBL108968</td>\n",
       "      <td>30.00</td>\n",
       "      <td>nM</td>\n",
       "      <td>O=C(CCn1c2c(c(=O)[nH]c1=O)CSCC2)NCC(=O)c1ccc(O...</td>\n",
       "    </tr>\n",
       "    <tr>\n",
       "      <th>3</th>\n",
       "      <td>CHEMBL430707</td>\n",
       "      <td>35.00</td>\n",
       "      <td>nM</td>\n",
       "      <td>O=C(CCn1c2c(c(=O)[nH]c1=O)CSCC2)NCC(=O)N1CCN(c...</td>\n",
       "    </tr>\n",
       "    <tr>\n",
       "      <th>4</th>\n",
       "      <td>CHEMBL321638</td>\n",
       "      <td>15.00</td>\n",
       "      <td>nM</td>\n",
       "      <td>COc1ccc(-c2ccc(C(=O)CNC(=O)CCn3c4c(c(=O)[nH]c3...</td>\n",
       "    </tr>\n",
       "    <tr>\n",
       "      <th>...</th>\n",
       "      <td>...</td>\n",
       "      <td>...</td>\n",
       "      <td>...</td>\n",
       "      <td>...</td>\n",
       "    </tr>\n",
       "    <tr>\n",
       "      <th>2047</th>\n",
       "      <td>CHEMBL4638701</td>\n",
       "      <td>89.60</td>\n",
       "      <td>nM</td>\n",
       "      <td>O=c1[nH]c(SCCN2CCN(CCSc3nc4ccccc4c(=O)[nH]3)CC...</td>\n",
       "    </tr>\n",
       "    <tr>\n",
       "      <th>2048</th>\n",
       "      <td>CHEMBL4636062</td>\n",
       "      <td>4.23</td>\n",
       "      <td>nM</td>\n",
       "      <td>Nc1ccccc1NC(=O)CCCCCNC(=O)c1cc(Cc2n[nH]c(=O)c3...</td>\n",
       "    </tr>\n",
       "    <tr>\n",
       "      <th>2049</th>\n",
       "      <td>CHEMBL4639985</td>\n",
       "      <td>1.94</td>\n",
       "      <td>nM</td>\n",
       "      <td>Nc1ccccc1NC(=O)C1CCN(C(=O)c2cc(Cc3n[nH]c(=O)c4...</td>\n",
       "    </tr>\n",
       "    <tr>\n",
       "      <th>2050</th>\n",
       "      <td>CHEMBL4642383</td>\n",
       "      <td>1.81</td>\n",
       "      <td>nM</td>\n",
       "      <td>Nc1ccc(F)cc1NC(=O)C1CCN(C(=O)c2cc(Cc3n[nH]c(=O...</td>\n",
       "    </tr>\n",
       "    <tr>\n",
       "      <th>2051</th>\n",
       "      <td>CHEMBL4637848</td>\n",
       "      <td>2.58</td>\n",
       "      <td>nM</td>\n",
       "      <td>Nc1cc(F)ccc1NC(=O)C1CCN(C(=O)c2cc(Cc3n[nH]c(=O...</td>\n",
       "    </tr>\n",
       "  </tbody>\n",
       "</table>\n",
       "<p>2052 rows × 4 columns</p>\n",
       "</div>"
      ],
      "text/plain": [
       "     molecule_chembl_id  standard_value standard_units  \\\n",
       "0          CHEMBL108702           20.00             nM   \n",
       "1          CHEMBL418816         3000.00             nM   \n",
       "2          CHEMBL108968           30.00             nM   \n",
       "3          CHEMBL430707           35.00             nM   \n",
       "4          CHEMBL321638           15.00             nM   \n",
       "...                 ...             ...            ...   \n",
       "2047      CHEMBL4638701           89.60             nM   \n",
       "2048      CHEMBL4636062            4.23             nM   \n",
       "2049      CHEMBL4639985            1.94             nM   \n",
       "2050      CHEMBL4642383            1.81             nM   \n",
       "2051      CHEMBL4637848            2.58             nM   \n",
       "\n",
       "                                       canonical_smiles  \n",
       "0     Nc1cccc(-c2ccc(C(=O)CNC(=O)CCn3c4c(c(=O)[nH]c3...  \n",
       "1     O=C(CCn1c2c(c(=O)[nH]c1=O)CCC2)NCC(=O)N1CCN(c2...  \n",
       "2     O=C(CCn1c2c(c(=O)[nH]c1=O)CSCC2)NCC(=O)c1ccc(O...  \n",
       "3     O=C(CCn1c2c(c(=O)[nH]c1=O)CSCC2)NCC(=O)N1CCN(c...  \n",
       "4     COc1ccc(-c2ccc(C(=O)CNC(=O)CCn3c4c(c(=O)[nH]c3...  \n",
       "...                                                 ...  \n",
       "2047  O=c1[nH]c(SCCN2CCN(CCSc3nc4ccccc4c(=O)[nH]3)CC...  \n",
       "2048  Nc1ccccc1NC(=O)CCCCCNC(=O)c1cc(Cc2n[nH]c(=O)c3...  \n",
       "2049  Nc1ccccc1NC(=O)C1CCN(C(=O)c2cc(Cc3n[nH]c(=O)c4...  \n",
       "2050  Nc1ccc(F)cc1NC(=O)C1CCN(C(=O)c2cc(Cc3n[nH]c(=O...  \n",
       "2051  Nc1cc(F)ccc1NC(=O)C1CCN(C(=O)c2cc(Cc3n[nH]c(=O...  \n",
       "\n",
       "[2052 rows x 4 columns]"
      ]
     },
     "execution_count": 45,
     "metadata": {},
     "output_type": "execute_result"
    }
   ],
   "source": [
    "merged"
   ]
  },
  {
   "cell_type": "code",
   "execution_count": null,
   "id": "912ed28a",
   "metadata": {},
   "outputs": [],
   "source": []
  }
 ],
 "metadata": {
  "kernelspec": {
   "display_name": "deeppy",
   "language": "python",
   "name": "deeppy"
  },
  "language_info": {
   "codemirror_mode": {
    "name": "ipython",
    "version": 3
   },
   "file_extension": ".py",
   "mimetype": "text/x-python",
   "name": "python",
   "nbconvert_exporter": "python",
   "pygments_lexer": "ipython3",
   "version": "3.7.11"
  }
 },
 "nbformat": 4,
 "nbformat_minor": 5
}
